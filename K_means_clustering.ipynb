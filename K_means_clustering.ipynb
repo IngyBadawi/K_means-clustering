{
  "nbformat": 4,
  "nbformat_minor": 0,
  "metadata": {
    "colab": {
      "name": "K_means clustering.ipynb",
      "provenance": [],
      "collapsed_sections": [
        "qsU07ibzGyjZ",
        "u2iArsmBHGVT",
        "tvNqttbEHOqn",
        "hn-K4uF9Hnon",
        "_fseiIxWHtbx",
        "fxfxKkdDSpbj"
      ],
      "toc_visible": true,
      "authorship_tag": "ABX9TyNGz2P61MI7Bt7VM/igy3DL",
      "include_colab_link": true
    },
    "kernelspec": {
      "name": "python3",
      "display_name": "Python 3"
    }
  },
  "cells": [
    {
      "cell_type": "markdown",
      "metadata": {
        "id": "view-in-github",
        "colab_type": "text"
      },
      "source": [
        "<a href=\"https://colab.research.google.com/github/IngyBadawi/K_means-clustering/blob/main/K_means_clustering.ipynb\" target=\"_parent\"><img src=\"https://colab.research.google.com/assets/colab-badge.svg\" alt=\"Open In Colab\"/></a>"
      ]
    },
    {
      "cell_type": "markdown",
      "metadata": {
        "id": "qsU07ibzGyjZ"
      },
      "source": [
        "# **Importing dataset and loading it into the environment**"
      ]
    },
    {
      "cell_type": "code",
      "metadata": {
        "id": "ILXhrFmELkto"
      },
      "source": [
        "import matplotlib.pyplot as plt\r\n",
        "import pickle\r\n",
        "import shutil\r\n",
        "import pandas as pd\r\n",
        "import numpy as np\r\n",
        "import random\r\n",
        "from collections import defaultdict"
      ],
      "execution_count": null,
      "outputs": []
    },
    {
      "cell_type": "code",
      "metadata": {
        "colab": {
          "base_uri": "https://localhost:8080/"
        },
        "id": "U7Eq4JwnLooM",
        "outputId": "fc469d9a-c615-4073-e8eb-f7ae53e2e1a6"
      },
      "source": [
        "!wget {\"https://www.cs.toronto.edu/~kriz/cifar-10-python.tar.gz\"}"
      ],
      "execution_count": null,
      "outputs": [
        {
          "output_type": "stream",
          "text": [
            "--2021-01-04 01:02:01--  https://www.cs.toronto.edu/~kriz/cifar-10-python.tar.gz\n",
            "Resolving www.cs.toronto.edu (www.cs.toronto.edu)... 128.100.3.30\n",
            "Connecting to www.cs.toronto.edu (www.cs.toronto.edu)|128.100.3.30|:443... connected.\n",
            "HTTP request sent, awaiting response... 200 OK\n",
            "Length: 170498071 (163M) [application/x-gzip]\n",
            "Saving to: ‘cifar-10-python.tar.gz.1’\n",
            "\n",
            "cifar-10-python.tar 100%[===================>] 162.60M  31.8MB/s    in 5.7s    \n",
            "\n",
            "2021-01-04 01:02:07 (28.3 MB/s) - ‘cifar-10-python.tar.gz.1’ saved [170498071/170498071]\n",
            "\n"
          ],
          "name": "stdout"
        }
      ]
    },
    {
      "cell_type": "code",
      "metadata": {
        "id": "_GZqrnlwLpT1"
      },
      "source": [
        "shutil.unpack_archive(\"cifar-10-python.tar.gz\", \"/content/\")"
      ],
      "execution_count": null,
      "outputs": []
    },
    {
      "cell_type": "code",
      "metadata": {
        "id": "JQ8h3qwpLtZq"
      },
      "source": [
        "def unpickle(file):\r\n",
        "    \"\"\"load the cifar-10 data\"\"\"\r\n",
        "\r\n",
        "    with open(file, 'rb') as fo:\r\n",
        "        data = pickle.load(fo, encoding='bytes')\r\n",
        "    return data"
      ],
      "execution_count": null,
      "outputs": []
    },
    {
      "cell_type": "code",
      "metadata": {
        "id": "eiD8mX1g23s_"
      },
      "source": [
        "def load_cifar_10_data(data_dir, negatives=False):\r\n",
        "    \"\"\"\r\n",
        "    Return train_data, train_filenames, train_labels, test_data, test_filenames, test_labels\r\n",
        "    \"\"\"\r\n",
        "\r\n",
        "    # get the meta_data_dict\r\n",
        "    # num_cases_per_batch: 1000\r\n",
        "    # label_names: ['airplane', 'automobile', 'bird', 'cat', 'deer', 'dog', 'frog', 'horse', 'ship', 'truck']\r\n",
        "    # num_vis: :3072\r\n",
        "\r\n",
        "    meta_data_dict = unpickle(data_dir + \"/batches.meta\")\r\n",
        "    cifar_label_names = meta_data_dict[b'label_names']\r\n",
        "    cifar_label_names = np.array(cifar_label_names)\r\n",
        "\r\n",
        "    # training data\r\n",
        "    cifar_train_data = None\r\n",
        "    cifar_train_filenames = []\r\n",
        "    cifar_train_labels = []\r\n",
        "\r\n",
        "    # cifar_train_data_dict\r\n",
        "    # 'batch_label': 'training batch 5 of 5'\r\n",
        "    # 'data': ndarray\r\n",
        "    # 'filenames': list\r\n",
        "    # 'labels': list\r\n",
        "\r\n",
        "    for i in range(1, 6):\r\n",
        "        cifar_train_data_dict = unpickle(data_dir + \"/data_batch_{}\".format(i))\r\n",
        "        if i == 1:\r\n",
        "            cifar_train_data = cifar_train_data_dict[b'data']\r\n",
        "        else:\r\n",
        "            cifar_train_data = np.vstack((cifar_train_data, cifar_train_data_dict[b'data']))\r\n",
        "        cifar_train_filenames += cifar_train_data_dict[b'filenames']\r\n",
        "        cifar_train_labels += cifar_train_data_dict[b'labels']\r\n",
        "\r\n",
        "    cifar_train_data = cifar_train_data.reshape((len(cifar_train_data), 3, 32, 32))\r\n",
        "    if negatives:\r\n",
        "        cifar_train_data = cifar_train_data.transpose(0, 2, 3, 1).astype(np.float32)\r\n",
        "    else:\r\n",
        "        cifar_train_data = np.rollaxis(cifar_train_data, 1, 4)\r\n",
        "    cifar_train_filenames = np.array(cifar_train_filenames)\r\n",
        "    cifar_train_labels = np.array(cifar_train_labels)\r\n",
        "\r\n",
        "    # test data\r\n",
        "    # cifar_test_data_dict\r\n",
        "    # 'batch_label': 'testing batch 1 of 1'\r\n",
        "    # 'data': ndarray\r\n",
        "    # 'filenames': list\r\n",
        "    # 'labels': list\r\n",
        "\r\n",
        "    cifar_test_data_dict = unpickle(data_dir + \"/test_batch\")\r\n",
        "    cifar_test_data = cifar_test_data_dict[b'data']\r\n",
        "    cifar_test_filenames = cifar_test_data_dict[b'filenames']\r\n",
        "    cifar_test_labels = cifar_test_data_dict[b'labels']\r\n",
        "\r\n",
        "    cifar_test_data = cifar_test_data.reshape((len(cifar_test_data), 3, 32, 32))\r\n",
        "    if negatives:\r\n",
        "        cifar_test_data = cifar_test_data.transpose(0, 2, 3, 1).astype(np.float32)\r\n",
        "    else:\r\n",
        "        cifar_test_data = np.rollaxis(cifar_test_data, 1, 4)\r\n",
        "    cifar_test_filenames = np.array(cifar_test_filenames)\r\n",
        "    cifar_test_labels = np.array(cifar_test_labels)\r\n",
        "\r\n",
        "    return cifar_train_data, cifar_train_filenames, cifar_train_labels, \\\r\n",
        "        cifar_test_data, cifar_test_filenames, cifar_test_labels, cifar_label_names"
      ],
      "execution_count": null,
      "outputs": []
    },
    {
      "cell_type": "code",
      "metadata": {
        "id": "tyP21KQ8L1Xb"
      },
      "source": [
        "if __name__ == \"__main__\":\r\n",
        "    \"\"\"show it works\"\"\"\r\n",
        "\r\n",
        "    cifar_10_dir = 'cifar-10-batches-py'\r\n",
        "\r\n",
        "    train_data, train_filenames, train_labels, test_data, test_filenames, test_labels, label_names = \\\r\n",
        "        load_cifar_10_data(cifar_10_dir)\r\n",
        "\r\n",
        "    "
      ],
      "execution_count": null,
      "outputs": []
    },
    {
      "cell_type": "markdown",
      "metadata": {
        "id": "u2iArsmBHGVT"
      },
      "source": [
        "# **Initializing constants**"
      ]
    },
    {
      "cell_type": "code",
      "metadata": {
        "id": "VnHhZ3-oMD8C"
      },
      "source": [
        "n = 30 #Number of images\r\n",
        "k = 3 #Number of centroids\r\n",
        "mx_it = 10 #Maximum number of iterations\r\n",
        "  "
      ],
      "execution_count": null,
      "outputs": []
    },
    {
      "cell_type": "markdown",
      "metadata": {
        "id": "tvNqttbEHOqn"
      },
      "source": [
        "# **Helper functions**"
      ]
    },
    {
      "cell_type": "code",
      "metadata": {
        "id": "jKXDj8zuO8R-"
      },
      "source": [
        "def get_rand_centroids(n, k):\r\n",
        "  random_index = random.sample(range(0, n), k)\r\n",
        "  centroids = np.zeros(shape=(k,32,32,3))\r\n",
        "  for i in range(len(random_index)):\r\n",
        "      print('random index is ', random_index[i])\r\n",
        "      centroids[i] = (train_data[i])\r\n",
        "  return centroids"
      ],
      "execution_count": null,
      "outputs": []
    },
    {
      "cell_type": "code",
      "metadata": {
        "id": "enB1WoHgUtI8"
      },
      "source": [
        "def get_dist(curr_image, centroid):\r\n",
        "  diff = 0\r\n",
        "  for i in range(32):\r\n",
        "    for j in range(32):\r\n",
        "      for l in range(3):\r\n",
        "        diff += abs(curr_image[i][j][l] - centroid[i][j][l])\r\n",
        "  return diff"
      ],
      "execution_count": null,
      "outputs": []
    },
    {
      "cell_type": "code",
      "metadata": {
        "id": "_Em_Na9kTA4U"
      },
      "source": [
        "import sys\r\n",
        "def get_nearest_centroid(my_centroid, centroids):\r\n",
        "  mn = sys.maxsize\r\n",
        "  best_centroid = 0\r\n",
        "  for x in range(k):\r\n",
        "    dist = get_dist(my_centroid, centroids[x])\r\n",
        "    if dist < mn:\r\n",
        "      mn = dist\r\n",
        "      best_centroid = x\r\n",
        "  return best_centroid"
      ],
      "execution_count": null,
      "outputs": []
    },
    {
      "cell_type": "code",
      "metadata": {
        "id": "dv6qweV56n2c"
      },
      "source": [
        "def compare_centroids(old_centroids, new_centroids):\r\n",
        "  for m in range (k):\r\n",
        "    for i in range(32):\r\n",
        "      for j in range(32):\r\n",
        "        for l in range(3):\r\n",
        "          if old_centroids[m][i][j][l] != new_centroids[m][i][j][l]:\r\n",
        "            return 0\r\n",
        "  return 1"
      ],
      "execution_count": null,
      "outputs": []
    },
    {
      "cell_type": "markdown",
      "metadata": {
        "id": "hn-K4uF9Hnon"
      },
      "source": [
        "# **K-Means Function**"
      ]
    },
    {
      "cell_type": "code",
      "metadata": {
        "id": "Uxm4HCktjtgU"
      },
      "source": [
        "def kmeans(n, k, centroids):\r\n",
        "  new_buckets = defaultdict(list)\r\n",
        "  new_centroids = np.zeros(shape=(k,32,32,3))\r\n",
        "  cntr = 0\r\n",
        "  sum = 0\r\n",
        "  while(1):\r\n",
        "    new_buckets = defaultdict(list)\r\n",
        "    cntr += 1\r\n",
        "    for i in range(n):\r\n",
        "      nearest_centroid = get_nearest_centroid(train_data[i], centroids)\r\n",
        "      new_buckets[nearest_centroid].append(i);\r\n",
        "\r\n",
        "    new_centroids = np.zeros(shape=(k,32,32,3))\r\n",
        "    for key, val in new_buckets.items():  #traversing all buckets, key is the current centroid, val is the list of indices of this bucket\r\n",
        "      print(key,\" : \",val)\r\n",
        "      for j in range(32): #traversing pixel 0 in first dimension\r\n",
        "        for l in range(32): #traversing pixel 0 in second dimension\r\n",
        "          for m in range(3):  #traversing 3 layers (RGB) in each pixel\r\n",
        "            sum = 0\r\n",
        "            for o in range (len(val)):#traversing the 3 layers in each pixel for the whole bucket, o is the current element in the i th bucket\r\n",
        "              curr = train_data[o]\r\n",
        "              sum += curr[j][l][m]\r\n",
        "            new_centroids[key][j][l][m] = sum/len(val)   #assigning the value of that pixel and that layer for the new centroid\r\n",
        "    \r\n",
        "    if(compare_centroids(centroids, new_centroids) or cntr > mx_it):\r\n",
        "      break\r\n",
        "    centroids = new_centroids\r\n",
        "  return [new_buckets, new_centroids]"
      ],
      "execution_count": null,
      "outputs": []
    },
    {
      "cell_type": "markdown",
      "metadata": {
        "id": "_fseiIxWHtbx"
      },
      "source": [
        "# **Running the code and getting output**"
      ]
    },
    {
      "cell_type": "code",
      "metadata": {
        "colab": {
          "base_uri": "https://localhost:8080/"
        },
        "id": "ttXc9Jvvk3dX",
        "outputId": "abe53bb4-29f1-4d06-a63b-b024d91f1537"
      },
      "source": [
        "rand_centroids = get_rand_centroids(n, k)\r\n",
        "result = kmeans(n, k, rand_centroids)\r\n",
        "buckets = result[0]\r\n",
        "final_centroids = np.zeros(shape=(k,32,32,3))\r\n",
        "final_centroids = result[1]"
      ],
      "execution_count": null,
      "outputs": [
        {
          "output_type": "stream",
          "text": [
            "random index is  2\n",
            "random index is  5\n",
            "random index is  29\n",
            "0  :  [0, 3, 5, 6, 7, 9, 10, 13, 14, 17, 19, 21, 22, 23, 24, 26, 27, 28]\n",
            "1  :  [1, 4, 8, 15, 20]\n",
            "2  :  [2, 11, 12, 16, 18, 25, 29]\n",
            "2  :  [0, 5, 6, 21, 22, 26]\n",
            "1  :  [1, 3, 4, 17]\n",
            "0  :  [2, 7, 8, 9, 10, 11, 12, 13, 14, 15, 16, 18, 19, 20, 23, 24, 25, 27, 28, 29]\n",
            "1  :  [0, 1]\n",
            "0  :  [2, 6, 7, 8, 9, 11, 12, 13, 14, 15, 16, 18, 19, 20, 23, 25, 28, 29]\n",
            "2  :  [3, 4, 5, 10, 17, 21, 22, 24, 26, 27]\n",
            "1  :  [0, 1]\n",
            "0  :  [2, 8, 9, 10, 11, 12, 13, 14, 15, 16, 17, 18, 20, 23, 25, 27, 28, 29]\n",
            "2  :  [3, 4, 5, 6, 7, 19, 21, 22, 24, 26]\n"
          ],
          "name": "stdout"
        }
      ]
    },
    {
      "cell_type": "code",
      "metadata": {
        "id": "-wlaFvIu_ooa",
        "colab": {
          "base_uri": "https://localhost:8080/"
        },
        "outputId": "ad3efafe-3b7b-4e0b-840a-7ad2c1a84afe"
      },
      "source": [
        "import matplotlib.pyplot as plt\r\n",
        "from PIL import Image as im\r\n",
        "final_centroids = final_centroids.astype(np.uint8)\r\n",
        "for i in range(len(final_centroids)):\r\n",
        "  # print('final_centroids[',i,'] = ', final_centroids[i])\r\n",
        "  img = im.fromarray(final_centroids[i], 'RGB')\r\n",
        "  name = 'centroid_' + str(i) + '.png'\r\n",
        "  img.save(name)\r\n"
      ],
      "execution_count": null,
      "outputs": [
        {
          "output_type": "stream",
          "text": [
            "final_centroids[ 0 ] =  [[[122 135 138]\n",
            "  [118 129 133]\n",
            "  [119 128 132]\n",
            "  ...\n",
            "  [127 137 137]\n",
            "  [123 135 135]\n",
            "  [121 132 134]]\n",
            "\n",
            " [[121 134 135]\n",
            "  [121 131 132]\n",
            "  [119 128 130]\n",
            "  ...\n",
            "  [132 142 139]\n",
            "  [130 140 138]\n",
            "  [124 135 134]]\n",
            "\n",
            " [[122 135 137]\n",
            "  [121 132 133]\n",
            "  [120 130 130]\n",
            "  ...\n",
            "  [130 138 134]\n",
            "  [130 138 134]\n",
            "  [123 132 130]]\n",
            "\n",
            " ...\n",
            "\n",
            " [[143 137 116]\n",
            "  [140 134 110]\n",
            "  [141 136 112]\n",
            "  ...\n",
            "  [ 94  95  74]\n",
            "  [ 88  90  70]\n",
            "  [ 95  95  77]]\n",
            "\n",
            " [[143 135 114]\n",
            "  [142 135 112]\n",
            "  [142 137 114]\n",
            "  ...\n",
            "  [ 99 100  79]\n",
            "  [ 97  98  78]\n",
            "  [ 98  99  80]]\n",
            "\n",
            " [[143 135 116]\n",
            "  [142 135 116]\n",
            "  [140 134 115]\n",
            "  ...\n",
            "  [102 102  83]\n",
            "  [101 100  81]\n",
            "  [103 101  82]]]\n",
            "final_centroids[ 1 ] =  [[[106 119 125]\n",
            "  [ 84  91  90]\n",
            "  [ 77  76  69]\n",
            "  ...\n",
            "  [124 113  89]\n",
            "  [119 107  86]\n",
            "  [113 102  86]]\n",
            "\n",
            " [[ 78  90  94]\n",
            "  [ 72  76  77]\n",
            "  [ 71  66  59]\n",
            "  ...\n",
            "  [109  93  66]\n",
            "  [ 98  81  56]\n",
            "  [ 96  80  59]]\n",
            "\n",
            " [[ 82  89  92]\n",
            "  [ 77  76  74]\n",
            "  [ 82  71  60]\n",
            "  ...\n",
            "  [ 98  83  57]\n",
            "  [ 94  77  52]\n",
            "  [ 88  71  48]]\n",
            "\n",
            " ...\n",
            "\n",
            " [[191 168 131]\n",
            "  [178 153  97]\n",
            "  [176 160  98]\n",
            "  ...\n",
            "  [101  83  53]\n",
            "  [ 58  42  32]\n",
            "  [ 73  58  55]]\n",
            "\n",
            " [[172 146 112]\n",
            "  [164 137  86]\n",
            "  [172 152  86]\n",
            "  ...\n",
            "  [143 120  95]\n",
            "  [110  88  77]\n",
            "  [107  87  82]]\n",
            "\n",
            " [[170 146 118]\n",
            "  [163 138 108]\n",
            "  [171 149 110]\n",
            "  ...\n",
            "  [179 158 139]\n",
            "  [147 126 113]\n",
            "  [133 112 108]]]\n",
            "final_centroids[ 2 ] =  [[[127 135 127]\n",
            "  [115 119 116]\n",
            "  [115 118 116]\n",
            "  ...\n",
            "  [131 138 129]\n",
            "  [129 137 129]\n",
            "  [126 134 128]]\n",
            "\n",
            " [[122 129 121]\n",
            "  [117 121 114]\n",
            "  [115 117 112]\n",
            "  ...\n",
            "  [139 146 133]\n",
            "  [137 145 133]\n",
            "  [130 139 128]]\n",
            "\n",
            " [[120 130 123]\n",
            "  [114 121 113]\n",
            "  [113 118 112]\n",
            "  ...\n",
            "  [136 142 127]\n",
            "  [139 144 129]\n",
            "  [131 136 124]]\n",
            "\n",
            " ...\n",
            "\n",
            " [[145 135 105]\n",
            "  [142 132  96]\n",
            "  [140 132  95]\n",
            "  ...\n",
            "  [ 97  96  69]\n",
            "  [ 90  89  64]\n",
            "  [ 97  95  71]]\n",
            "\n",
            " [[145 132 102]\n",
            "  [142 130  96]\n",
            "  [141 132  96]\n",
            "  ...\n",
            "  [105 102  76]\n",
            "  [101  98  74]\n",
            "  [105 102  78]]\n",
            "\n",
            " [[147 132 106]\n",
            "  [143 131 103]\n",
            "  [141 130 102]\n",
            "  ...\n",
            "  [110 106  83]\n",
            "  [105 100  78]\n",
            "  [107 103  80]]]\n"
          ],
          "name": "stdout"
        }
      ]
    }
  ]
}